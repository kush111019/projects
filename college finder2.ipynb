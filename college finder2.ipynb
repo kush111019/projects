{
 "cells": [
  {
   "cell_type": "markdown",
   "metadata": {},
   "source": [
    "# project2: Rock,Paper and Scisor game"
   ]
  },
  {
   "cell_type": "code",
   "execution_count": 5,
   "metadata": {},
   "outputs": [
    {
     "name": "stdout",
     "output_type": "stream",
     "text": [
      "HERE WE ARE STARTING THE GAME : \n",
      "********************\n",
      "********************\n",
      "Enter rock or scissor or paper according to your choice :ieiie\n",
      "Enter rock or scissor or paper according to your choice :dkdi\n",
      "invalid input\n"
     ]
    }
   ],
   "source": [
    "print(\"HERE WE ARE STARTING THE GAME : \")\n",
    "print(\"*\"*20)\n",
    "print(\"*\"*20)\n",
    "user1=str(input(\"Enter rock or scissor or paper according to your choice :\"))\n",
    "user2=str(input(\"Enter rock or scissor or paper according to your choice :\"))\n",
    "if(user1==user2):\n",
    "    print(\"wrong input try again\")\n",
    "elif((user1==\"rock\") and (user2==\"scissor\")):\n",
    "    print(\"user1 is the winner\")\n",
    "elif((user1==\"rock\") and (user2==\"paper\")):\n",
    "    print(\"user2 is the winner\")\n",
    "elif((user1==\"scissor\") and (user2==\"paper\")):\n",
    "    print(\"user1 is the winner\")\n",
    "elif((user1==\"scissor\") and (user2==\"rock\")):\n",
    "    print(\"user2 is the winner\")\n",
    "elif((user1==\"paper\") and (user2==\"rock\")):\n",
    "    print(\"user1 is the winner\")\n",
    "elif((user1==\"paper\") and (user2==\"scissor\")):\n",
    "    print(\"user2 is the winner\")\n",
    "else:\n",
    "    print(\"invalid input\")"
   ]
  }
 ],
 "metadata": {
  "kernelspec": {
   "display_name": "Python 3",
   "language": "python",
   "name": "python3"
  },
  "language_info": {
   "codemirror_mode": {
    "name": "ipython",
    "version": 3
   },
   "file_extension": ".py",
   "mimetype": "text/x-python",
   "name": "python",
   "nbconvert_exporter": "python",
   "pygments_lexer": "ipython3",
   "version": "3.8.5"
  }
 },
 "nbformat": 4,
 "nbformat_minor": 4
}
